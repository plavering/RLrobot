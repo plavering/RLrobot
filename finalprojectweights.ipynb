{
  "nbformat": 4,
  "nbformat_minor": 0,
  "metadata": {
    "colab": {
      "provenance": [],
      "gpuType": "T4"
    },
    "kernelspec": {
      "name": "python3",
      "display_name": "Python 3"
    },
    "language_info": {
      "name": "python"
    },
    "accelerator": "GPU"
  },
  "cells": [
    {
      "cell_type": "code",
      "execution_count": null,
      "metadata": {
        "colab": {
          "base_uri": "https://localhost:8080/"
        },
        "id": "3gHBpgoDQ2hF",
        "outputId": "aa23a707-c4ae-44d8-ae9d-77561be0e31a"
      },
      "outputs": [
        {
          "output_type": "stream",
          "name": "stdout",
          "text": [
            "Requirement already satisfied: ultralytics in /usr/local/lib/python3.11/dist-packages (8.3.127)\n",
            "Requirement already satisfied: numpy>=1.23.0 in /usr/local/lib/python3.11/dist-packages (from ultralytics) (2.0.2)\n",
            "Requirement already satisfied: matplotlib>=3.3.0 in /usr/local/lib/python3.11/dist-packages (from ultralytics) (3.10.0)\n",
            "Requirement already satisfied: opencv-python>=4.6.0 in /usr/local/lib/python3.11/dist-packages (from ultralytics) (4.11.0.86)\n",
            "Requirement already satisfied: pillow>=7.1.2 in /usr/local/lib/python3.11/dist-packages (from ultralytics) (11.2.1)\n",
            "Requirement already satisfied: pyyaml>=5.3.1 in /usr/local/lib/python3.11/dist-packages (from ultralytics) (6.0.2)\n",
            "Requirement already satisfied: requests>=2.23.0 in /usr/local/lib/python3.11/dist-packages (from ultralytics) (2.32.3)\n",
            "Requirement already satisfied: scipy>=1.4.1 in /usr/local/lib/python3.11/dist-packages (from ultralytics) (1.15.2)\n",
            "Requirement already satisfied: torch>=1.8.0 in /usr/local/lib/python3.11/dist-packages (from ultralytics) (2.6.0+cu124)\n",
            "Requirement already satisfied: torchvision>=0.9.0 in /usr/local/lib/python3.11/dist-packages (from ultralytics) (0.21.0+cu124)\n",
            "Requirement already satisfied: tqdm>=4.64.0 in /usr/local/lib/python3.11/dist-packages (from ultralytics) (4.67.1)\n",
            "Requirement already satisfied: psutil in /usr/local/lib/python3.11/dist-packages (from ultralytics) (5.9.5)\n",
            "Requirement already satisfied: py-cpuinfo in /usr/local/lib/python3.11/dist-packages (from ultralytics) (9.0.0)\n",
            "Requirement already satisfied: pandas>=1.1.4 in /usr/local/lib/python3.11/dist-packages (from ultralytics) (2.2.2)\n",
            "Requirement already satisfied: seaborn>=0.11.0 in /usr/local/lib/python3.11/dist-packages (from ultralytics) (0.13.2)\n",
            "Requirement already satisfied: ultralytics-thop>=2.0.0 in /usr/local/lib/python3.11/dist-packages (from ultralytics) (2.0.14)\n",
            "Requirement already satisfied: contourpy>=1.0.1 in /usr/local/lib/python3.11/dist-packages (from matplotlib>=3.3.0->ultralytics) (1.3.2)\n",
            "Requirement already satisfied: cycler>=0.10 in /usr/local/lib/python3.11/dist-packages (from matplotlib>=3.3.0->ultralytics) (0.12.1)\n",
            "Requirement already satisfied: fonttools>=4.22.0 in /usr/local/lib/python3.11/dist-packages (from matplotlib>=3.3.0->ultralytics) (4.57.0)\n",
            "Requirement already satisfied: kiwisolver>=1.3.1 in /usr/local/lib/python3.11/dist-packages (from matplotlib>=3.3.0->ultralytics) (1.4.8)\n",
            "Requirement already satisfied: packaging>=20.0 in /usr/local/lib/python3.11/dist-packages (from matplotlib>=3.3.0->ultralytics) (24.2)\n",
            "Requirement already satisfied: pyparsing>=2.3.1 in /usr/local/lib/python3.11/dist-packages (from matplotlib>=3.3.0->ultralytics) (3.2.3)\n",
            "Requirement already satisfied: python-dateutil>=2.7 in /usr/local/lib/python3.11/dist-packages (from matplotlib>=3.3.0->ultralytics) (2.9.0.post0)\n",
            "Requirement already satisfied: pytz>=2020.1 in /usr/local/lib/python3.11/dist-packages (from pandas>=1.1.4->ultralytics) (2025.2)\n",
            "Requirement already satisfied: tzdata>=2022.7 in /usr/local/lib/python3.11/dist-packages (from pandas>=1.1.4->ultralytics) (2025.2)\n",
            "Requirement already satisfied: charset-normalizer<4,>=2 in /usr/local/lib/python3.11/dist-packages (from requests>=2.23.0->ultralytics) (3.4.1)\n",
            "Requirement already satisfied: idna<4,>=2.5 in /usr/local/lib/python3.11/dist-packages (from requests>=2.23.0->ultralytics) (3.7)\n",
            "Requirement already satisfied: urllib3<3,>=1.21.1 in /usr/local/lib/python3.11/dist-packages (from requests>=2.23.0->ultralytics) (2.4.0)\n",
            "Requirement already satisfied: certifi>=2017.4.17 in /usr/local/lib/python3.11/dist-packages (from requests>=2.23.0->ultralytics) (2025.4.26)\n",
            "Requirement already satisfied: filelock in /usr/local/lib/python3.11/dist-packages (from torch>=1.8.0->ultralytics) (3.18.0)\n",
            "Requirement already satisfied: typing-extensions>=4.10.0 in /usr/local/lib/python3.11/dist-packages (from torch>=1.8.0->ultralytics) (4.13.2)\n",
            "Requirement already satisfied: networkx in /usr/local/lib/python3.11/dist-packages (from torch>=1.8.0->ultralytics) (3.4.2)\n",
            "Requirement already satisfied: jinja2 in /usr/local/lib/python3.11/dist-packages (from torch>=1.8.0->ultralytics) (3.1.6)\n",
            "Requirement already satisfied: fsspec in /usr/local/lib/python3.11/dist-packages (from torch>=1.8.0->ultralytics) (2025.3.2)\n",
            "Requirement already satisfied: nvidia-cuda-nvrtc-cu12==12.4.127 in /usr/local/lib/python3.11/dist-packages (from torch>=1.8.0->ultralytics) (12.4.127)\n",
            "Requirement already satisfied: nvidia-cuda-runtime-cu12==12.4.127 in /usr/local/lib/python3.11/dist-packages (from torch>=1.8.0->ultralytics) (12.4.127)\n",
            "Requirement already satisfied: nvidia-cuda-cupti-cu12==12.4.127 in /usr/local/lib/python3.11/dist-packages (from torch>=1.8.0->ultralytics) (12.4.127)\n",
            "Requirement already satisfied: nvidia-cudnn-cu12==9.1.0.70 in /usr/local/lib/python3.11/dist-packages (from torch>=1.8.0->ultralytics) (9.1.0.70)\n",
            "Requirement already satisfied: nvidia-cublas-cu12==12.4.5.8 in /usr/local/lib/python3.11/dist-packages (from torch>=1.8.0->ultralytics) (12.4.5.8)\n",
            "Requirement already satisfied: nvidia-cufft-cu12==11.2.1.3 in /usr/local/lib/python3.11/dist-packages (from torch>=1.8.0->ultralytics) (11.2.1.3)\n",
            "Requirement already satisfied: nvidia-curand-cu12==10.3.5.147 in /usr/local/lib/python3.11/dist-packages (from torch>=1.8.0->ultralytics) (10.3.5.147)\n",
            "Requirement already satisfied: nvidia-cusolver-cu12==11.6.1.9 in /usr/local/lib/python3.11/dist-packages (from torch>=1.8.0->ultralytics) (11.6.1.9)\n",
            "Requirement already satisfied: nvidia-cusparse-cu12==12.3.1.170 in /usr/local/lib/python3.11/dist-packages (from torch>=1.8.0->ultralytics) (12.3.1.170)\n",
            "Requirement already satisfied: nvidia-cusparselt-cu12==0.6.2 in /usr/local/lib/python3.11/dist-packages (from torch>=1.8.0->ultralytics) (0.6.2)\n",
            "Requirement already satisfied: nvidia-nccl-cu12==2.21.5 in /usr/local/lib/python3.11/dist-packages (from torch>=1.8.0->ultralytics) (2.21.5)\n",
            "Requirement already satisfied: nvidia-nvtx-cu12==12.4.127 in /usr/local/lib/python3.11/dist-packages (from torch>=1.8.0->ultralytics) (12.4.127)\n",
            "Requirement already satisfied: nvidia-nvjitlink-cu12==12.4.127 in /usr/local/lib/python3.11/dist-packages (from torch>=1.8.0->ultralytics) (12.4.127)\n",
            "Requirement already satisfied: triton==3.2.0 in /usr/local/lib/python3.11/dist-packages (from torch>=1.8.0->ultralytics) (3.2.0)\n",
            "Requirement already satisfied: sympy==1.13.1 in /usr/local/lib/python3.11/dist-packages (from torch>=1.8.0->ultralytics) (1.13.1)\n",
            "Requirement already satisfied: mpmath<1.4,>=1.1.0 in /usr/local/lib/python3.11/dist-packages (from sympy==1.13.1->torch>=1.8.0->ultralytics) (1.3.0)\n",
            "Requirement already satisfied: six>=1.5 in /usr/local/lib/python3.11/dist-packages (from python-dateutil>=2.7->matplotlib>=3.3.0->ultralytics) (1.17.0)\n",
            "Requirement already satisfied: MarkupSafe>=2.0 in /usr/local/lib/python3.11/dist-packages (from jinja2->torch>=1.8.0->ultralytics) (3.0.2)\n",
            "Requirement already satisfied: torchprofile in /usr/local/lib/python3.11/dist-packages (0.0.4)\n",
            "Requirement already satisfied: fast-pytorch-kmeans in /usr/local/lib/python3.11/dist-packages (0.2.2)\n",
            "Requirement already satisfied: matplotlib in /usr/local/lib/python3.11/dist-packages (3.10.0)\n",
            "Requirement already satisfied: numpy>=1.14 in /usr/local/lib/python3.11/dist-packages (from torchprofile) (2.0.2)\n",
            "Requirement already satisfied: torch>=1.4 in /usr/local/lib/python3.11/dist-packages (from torchprofile) (2.6.0+cu124)\n",
            "Requirement already satisfied: torchvision>=0.4 in /usr/local/lib/python3.11/dist-packages (from torchprofile) (0.21.0+cu124)\n",
            "Requirement already satisfied: contourpy>=1.0.1 in /usr/local/lib/python3.11/dist-packages (from matplotlib) (1.3.2)\n",
            "Requirement already satisfied: cycler>=0.10 in /usr/local/lib/python3.11/dist-packages (from matplotlib) (0.12.1)\n",
            "Requirement already satisfied: fonttools>=4.22.0 in /usr/local/lib/python3.11/dist-packages (from matplotlib) (4.57.0)\n",
            "Requirement already satisfied: kiwisolver>=1.3.1 in /usr/local/lib/python3.11/dist-packages (from matplotlib) (1.4.8)\n",
            "Requirement already satisfied: packaging>=20.0 in /usr/local/lib/python3.11/dist-packages (from matplotlib) (24.2)\n",
            "Requirement already satisfied: pillow>=8 in /usr/local/lib/python3.11/dist-packages (from matplotlib) (11.2.1)\n",
            "Requirement already satisfied: pyparsing>=2.3.1 in /usr/local/lib/python3.11/dist-packages (from matplotlib) (3.2.3)\n",
            "Requirement already satisfied: python-dateutil>=2.7 in /usr/local/lib/python3.11/dist-packages (from matplotlib) (2.9.0.post0)\n",
            "Requirement already satisfied: six>=1.5 in /usr/local/lib/python3.11/dist-packages (from python-dateutil>=2.7->matplotlib) (1.17.0)\n",
            "Requirement already satisfied: filelock in /usr/local/lib/python3.11/dist-packages (from torch>=1.4->torchprofile) (3.18.0)\n",
            "Requirement already satisfied: typing-extensions>=4.10.0 in /usr/local/lib/python3.11/dist-packages (from torch>=1.4->torchprofile) (4.13.2)\n",
            "Requirement already satisfied: networkx in /usr/local/lib/python3.11/dist-packages (from torch>=1.4->torchprofile) (3.4.2)\n",
            "Requirement already satisfied: jinja2 in /usr/local/lib/python3.11/dist-packages (from torch>=1.4->torchprofile) (3.1.6)\n",
            "Requirement already satisfied: fsspec in /usr/local/lib/python3.11/dist-packages (from torch>=1.4->torchprofile) (2025.3.2)\n",
            "Requirement already satisfied: nvidia-cuda-nvrtc-cu12==12.4.127 in /usr/local/lib/python3.11/dist-packages (from torch>=1.4->torchprofile) (12.4.127)\n",
            "Requirement already satisfied: nvidia-cuda-runtime-cu12==12.4.127 in /usr/local/lib/python3.11/dist-packages (from torch>=1.4->torchprofile) (12.4.127)\n",
            "Requirement already satisfied: nvidia-cuda-cupti-cu12==12.4.127 in /usr/local/lib/python3.11/dist-packages (from torch>=1.4->torchprofile) (12.4.127)\n",
            "Requirement already satisfied: nvidia-cudnn-cu12==9.1.0.70 in /usr/local/lib/python3.11/dist-packages (from torch>=1.4->torchprofile) (9.1.0.70)\n",
            "Requirement already satisfied: nvidia-cublas-cu12==12.4.5.8 in /usr/local/lib/python3.11/dist-packages (from torch>=1.4->torchprofile) (12.4.5.8)\n",
            "Requirement already satisfied: nvidia-cufft-cu12==11.2.1.3 in /usr/local/lib/python3.11/dist-packages (from torch>=1.4->torchprofile) (11.2.1.3)\n",
            "Requirement already satisfied: nvidia-curand-cu12==10.3.5.147 in /usr/local/lib/python3.11/dist-packages (from torch>=1.4->torchprofile) (10.3.5.147)\n",
            "Requirement already satisfied: nvidia-cusolver-cu12==11.6.1.9 in /usr/local/lib/python3.11/dist-packages (from torch>=1.4->torchprofile) (11.6.1.9)\n",
            "Requirement already satisfied: nvidia-cusparse-cu12==12.3.1.170 in /usr/local/lib/python3.11/dist-packages (from torch>=1.4->torchprofile) (12.3.1.170)\n",
            "Requirement already satisfied: nvidia-cusparselt-cu12==0.6.2 in /usr/local/lib/python3.11/dist-packages (from torch>=1.4->torchprofile) (0.6.2)\n",
            "Requirement already satisfied: nvidia-nccl-cu12==2.21.5 in /usr/local/lib/python3.11/dist-packages (from torch>=1.4->torchprofile) (2.21.5)\n",
            "Requirement already satisfied: nvidia-nvtx-cu12==12.4.127 in /usr/local/lib/python3.11/dist-packages (from torch>=1.4->torchprofile) (12.4.127)\n",
            "Requirement already satisfied: nvidia-nvjitlink-cu12==12.4.127 in /usr/local/lib/python3.11/dist-packages (from torch>=1.4->torchprofile) (12.4.127)\n",
            "Requirement already satisfied: triton==3.2.0 in /usr/local/lib/python3.11/dist-packages (from torch>=1.4->torchprofile) (3.2.0)\n",
            "Requirement already satisfied: sympy==1.13.1 in /usr/local/lib/python3.11/dist-packages (from torch>=1.4->torchprofile) (1.13.1)\n",
            "Requirement already satisfied: mpmath<1.4,>=1.1.0 in /usr/local/lib/python3.11/dist-packages (from sympy==1.13.1->torch>=1.4->torchprofile) (1.3.0)\n",
            "Requirement already satisfied: MarkupSafe>=2.0 in /usr/local/lib/python3.11/dist-packages (from jinja2->torch>=1.4->torchprofile) (3.0.2)\n"
          ]
        }
      ],
      "source": [
        "!pip install ultralytics\n",
        "!pip install torchprofile fast-pytorch-kmeans matplotlib\n"
      ]
    },
    {
      "cell_type": "code",
      "source": [
        "import copy\n",
        "import math\n",
        "import random\n",
        "import time\n",
        "from collections import OrderedDict, defaultdict\n",
        "from typing import Union, List\n",
        "\n",
        "import numpy as np\n",
        "import torch\n",
        "from matplotlib import pyplot as plt\n",
        "from matplotlib.colors import ListedColormap\n",
        "from torch import nn\n",
        "from torch.optim import *\n",
        "from torch.optim.lr_scheduler import *\n",
        "from torch.utils.data import DataLoader\n",
        "from torchprofile import profile_macs\n",
        "from tqdm.auto import tqdm\n",
        "\n",
        "from ultralytics import YOLO\n",
        "\n",
        "random.seed(0)\n",
        "np.random.seed(0)\n",
        "torch.manual_seed(0)\n",
        "\n",
        "Byte = 8\n",
        "KiB = 1024 * Byte\n",
        "MiB = 1024 * KiB\n",
        "GiB = 1024 * MiB\n",
        "\n",
        "assert torch.cuda.is_available()\n"
      ],
      "metadata": {
        "id": "r21LIGfUQ4NE"
      },
      "execution_count": null,
      "outputs": []
    },
    {
      "cell_type": "code",
      "source": [
        "!pip install roboflow\n",
        "\n",
        "from roboflow import Roboflow\n",
        "rf = Roboflow(api_key=\"ed01BVqTBrsUtDS3NpII\")\n",
        "project = rf.workspace(\"yolo-tr0yg\").project(\"human_detection-kf2rg\")\n",
        "version = project.version(1)\n",
        "dataset = version.download(\"yolov8\")\n",
        "\n",
        "print(f\"Dataset downloaded to: {dataset}\")"
      ],
      "metadata": {
        "colab": {
          "base_uri": "https://localhost:8080/"
        },
        "id": "GGMli5K-Q4Ll",
        "outputId": "1ef5f923-0eb5-4bd5-a1c1-9babf36cdfaa"
      },
      "execution_count": null,
      "outputs": [
        {
          "output_type": "stream",
          "name": "stdout",
          "text": [
            "Requirement already satisfied: roboflow in /usr/local/lib/python3.11/dist-packages (1.1.63)\n",
            "Requirement already satisfied: certifi in /usr/local/lib/python3.11/dist-packages (from roboflow) (2025.4.26)\n",
            "Requirement already satisfied: idna==3.7 in /usr/local/lib/python3.11/dist-packages (from roboflow) (3.7)\n",
            "Requirement already satisfied: cycler in /usr/local/lib/python3.11/dist-packages (from roboflow) (0.12.1)\n",
            "Requirement already satisfied: kiwisolver>=1.3.1 in /usr/local/lib/python3.11/dist-packages (from roboflow) (1.4.8)\n",
            "Requirement already satisfied: matplotlib in /usr/local/lib/python3.11/dist-packages (from roboflow) (3.10.0)\n",
            "Requirement already satisfied: numpy>=1.18.5 in /usr/local/lib/python3.11/dist-packages (from roboflow) (2.0.2)\n",
            "Requirement already satisfied: opencv-python-headless==4.10.0.84 in /usr/local/lib/python3.11/dist-packages (from roboflow) (4.10.0.84)\n",
            "Requirement already satisfied: Pillow>=7.1.2 in /usr/local/lib/python3.11/dist-packages (from roboflow) (11.2.1)\n",
            "Requirement already satisfied: pillow-heif>=0.18.0 in /usr/local/lib/python3.11/dist-packages (from roboflow) (0.22.0)\n",
            "Requirement already satisfied: python-dateutil in /usr/local/lib/python3.11/dist-packages (from roboflow) (2.9.0.post0)\n",
            "Requirement already satisfied: python-dotenv in /usr/local/lib/python3.11/dist-packages (from roboflow) (1.1.0)\n",
            "Requirement already satisfied: requests in /usr/local/lib/python3.11/dist-packages (from roboflow) (2.32.3)\n",
            "Requirement already satisfied: six in /usr/local/lib/python3.11/dist-packages (from roboflow) (1.17.0)\n",
            "Requirement already satisfied: urllib3>=1.26.6 in /usr/local/lib/python3.11/dist-packages (from roboflow) (2.4.0)\n",
            "Requirement already satisfied: tqdm>=4.41.0 in /usr/local/lib/python3.11/dist-packages (from roboflow) (4.67.1)\n",
            "Requirement already satisfied: PyYAML>=5.3.1 in /usr/local/lib/python3.11/dist-packages (from roboflow) (6.0.2)\n",
            "Requirement already satisfied: requests-toolbelt in /usr/local/lib/python3.11/dist-packages (from roboflow) (1.0.0)\n",
            "Requirement already satisfied: filetype in /usr/local/lib/python3.11/dist-packages (from roboflow) (1.2.0)\n",
            "Requirement already satisfied: contourpy>=1.0.1 in /usr/local/lib/python3.11/dist-packages (from matplotlib->roboflow) (1.3.2)\n",
            "Requirement already satisfied: fonttools>=4.22.0 in /usr/local/lib/python3.11/dist-packages (from matplotlib->roboflow) (4.57.0)\n",
            "Requirement already satisfied: packaging>=20.0 in /usr/local/lib/python3.11/dist-packages (from matplotlib->roboflow) (24.2)\n",
            "Requirement already satisfied: pyparsing>=2.3.1 in /usr/local/lib/python3.11/dist-packages (from matplotlib->roboflow) (3.2.3)\n",
            "Requirement already satisfied: charset-normalizer<4,>=2 in /usr/local/lib/python3.11/dist-packages (from requests->roboflow) (3.4.1)\n",
            "loading Roboflow workspace...\n",
            "loading Roboflow project...\n",
            "Dataset downloaded to: <roboflow.core.dataset.Dataset object at 0x7a6e57b08750>\n"
          ]
        }
      ]
    },
    {
      "cell_type": "code",
      "source": [
        "model = YOLO(\"/content/best.pt\")\n",
        "\n"
      ],
      "metadata": {
        "id": "bkzZqrKZQ4Jd"
      },
      "execution_count": null,
      "outputs": []
    },
    {
      "cell_type": "code",
      "source": [
        "@torch.inference_mode()\n",
        "def evaluate_yolo(model, data_yaml):\n",
        "    \"\"\"Evaluate YOLO model using mAP metrics\"\"\"\n",
        "    results = model.val(data=data_yaml)\n",
        "    return results.box.map\n",
        "\n",
        "def get_model_macs(model, inputs) -> int:\n",
        "    \"\"\"Calculate the number of MACs for the model\"\"\"\n",
        "    return profile_macs(model, inputs)\n",
        "\n",
        "def get_sparsity(tensor: torch.Tensor) -> float:\n",
        "    \"\"\"Calculate sparsity of the given tensor\"\"\"\n",
        "    return 1 - float(tensor.count_nonzero()) / tensor.numel()\n",
        "\n",
        "def get_model_sparsity(model: nn.Module) -> float:\n",
        "    \"\"\"Calculate sparsity of the given model\"\"\"\n",
        "    num_nonzeros, num_elements = 0, 0\n",
        "    for param in model.parameters():\n",
        "        num_nonzeros += param.count_nonzero()\n",
        "        num_elements += param.numel()\n",
        "    return 1 - float(num_nonzeros) / num_elements\n",
        "\n",
        "def get_num_parameters(model: nn.Module, count_nonzero_only=False) -> int:\n",
        "    \"\"\"Calculate the total number of parameters of model\"\"\"\n",
        "    num_counted_elements = 0\n",
        "    for param in model.parameters():\n",
        "        if count_nonzero_only:\n",
        "            num_counted_elements += param.count_nonzero()\n",
        "        else:\n",
        "            num_counted_elements += param.numel()\n",
        "    return num_counted_elements\n",
        "\n",
        "def get_model_size(model: nn.Module, data_width=32, count_nonzero_only=False) -> int:\n",
        "    \"\"\"Calculate the model size in bits\"\"\"\n",
        "    return get_num_parameters(model, count_nonzero_only) * data_width\n",
        "\n",
        "def plot_weight_distribution(model, bins=256, count_nonzero_only=False):\n",
        "    \"\"\"Plot histogram of weights for each layer\"\"\"\n",
        "    fig, axes = plt.subplots(3, 3, figsize=(10, 6))\n",
        "    axes = axes.ravel()\n",
        "    plot_index = 0\n",
        "\n",
        "    for name, param in model.named_parameters():\n",
        "        if param.dim() > 1 and plot_index < len(axes):\n",
        "            ax = axes[plot_index]\n",
        "            if count_nonzero_only:\n",
        "                param_cpu = param.detach().view(-1).cpu()\n",
        "                param_cpu = param_cpu[param_cpu != 0].view(-1)\n",
        "                ax.hist(param_cpu, bins=bins, density=True, color='blue', alpha=0.5)\n",
        "            else:\n",
        "                ax.hist(param.detach().view(-1).cpu(), bins=bins, density=True, color='blue', alpha=0.5)\n",
        "            ax.set_xlabel(name)\n",
        "            ax.set_ylabel('density')\n",
        "            plot_index += 1\n",
        "\n",
        "    fig.suptitle('Histogram of Weights')\n",
        "    fig.tight_layout()\n",
        "    fig.subplots_adjust(top=0.925)\n",
        "    plt.show()"
      ],
      "metadata": {
        "id": "TgaYn4uFQ4Hl"
      },
      "execution_count": null,
      "outputs": []
    },
    {
      "cell_type": "code",
      "source": [
        "dummy_input = torch.randn(1, 3, 640, 640).cuda()\n",
        "\n",
        "yolo_model = model.model\n",
        "yolo_model = yolo_model.cuda()\n",
        "\n",
        "dense_model_size = get_model_size(yolo_model)\n",
        "print(f\"Dense model has size = {dense_model_size/MiB:.2f} MiB\")\n",
        "print(f\"Dense model has parameters = {get_num_parameters(yolo_model)/1e6:.2f}M\")\n",
        "print(f\"Dense model sparsity = {get_model_sparsity(yolo_model):.4f}\")\n",
        "\n",
        "plot_weight_distribution(yolo_model)\n",
        "\n",
        "original_macs = get_model_macs(yolo_model, dummy_input)\n",
        "print(f\"Dense model MACs = {original_macs/1e9:.2f}G\")"
      ],
      "metadata": {
        "colab": {
          "base_uri": "https://localhost:8080/",
          "height": 824
        },
        "id": "6OxEwH8ZQ4GD",
        "outputId": "bb9e62ba-3360-41e5-d568-b38d7aa68476"
      },
      "execution_count": null,
      "outputs": [
        {
          "output_type": "stream",
          "name": "stdout",
          "text": [
            "Dense model has size = 11.49 MiB\n",
            "Dense model has parameters = 3.01M\n",
            "Dense model sparsity = 0.0070\n"
          ]
        },
        {
          "output_type": "display_data",
          "data": {
            "text/plain": [
              "<Figure size 1000x600 with 9 Axes>"
            ],
            "image/png": "[encoded data removed]"
          },
          "metadata": {}
        },
        {
          "output_type": "stream",
          "name": "stdout",
          "text": [
            "Dense model MACs = 4.06G\n"
          ]
        },
        {
          "output_type": "stream",
          "name": "stderr",
          "text": [
            "No handlers found: \"aten::silu_\". Skipped.\n",
            "No handlers found: \"aten::unbind\". Skipped.\n",
            "No handlers found: \"aten::scalarimplicit\". Skipped.\n",
            "No handlers found: \"aten::arange\". Skipped.\n",
            "No handlers found: \"aten::meshgrid\". Skipped.\n",
            "No handlers found: \"aten::full\". Skipped.\n",
            "No handlers found: \"aten::split_with_sizes\". Skipped.\n",
            "No handlers found: \"aten::unsqueeze\". Skipped.\n"
          ]
        }
      ]
    },
    {
      "cell_type": "code",
      "source": [
        "def create_prunable_yolo_model(original_model):\n",
        "    \"\"\"\n",
        "    Create a copy of the YOLO model that can be pruned\n",
        "    :param original_model: Original YOLO model\n",
        "    :return: Prunable copy of the model\n",
        "    \"\"\"\n",
        "    from ultralytics.nn.tasks import DetectionModel\n",
        "    new_model = DetectionModel(original_model.yaml)\n",
        "\n",
        "    with torch.inference_mode(False):\n",
        "        for name, param in original_model.named_parameters():\n",
        "            if name in dict(new_model.named_parameters()):\n",
        "                new_model.get_parameter(name).data.copy_(param.data.clone())\n",
        "\n",
        "    return new_model\n",
        "\n",
        "\n",
        "prunable_model = create_prunable_yolo_model(yolo_model)\n",
        "sparsity_dict = create_sparsity_dict(prunable_model, uniform_sparsity=0.3)\n",
        "\n",
        "pruner = FineGrainedPruner(prunable_model, sparsity_dict)\n"
      ],
      "metadata": {
        "colab": {
          "base_uri": "https://localhost:8080/"
        },
        "id": "8ETqeompQ3_1",
        "outputId": "3873074b-c7aa-49e5-b96b-e53783e33733"
      },
      "execution_count": null,
      "outputs": [
        {
          "output_type": "stream",
          "name": "stdout",
          "text": [
            "\n",
            "                   from  n    params  module                                       arguments                     \n",
            "  0                  -1  1       464  ultralytics.nn.modules.conv.Conv             [3, 16, 3, 2]                 \n",
            "  1                  -1  1      4672  ultralytics.nn.modules.conv.Conv             [16, 32, 3, 2]                \n",
            "  2                  -1  1      7360  ultralytics.nn.modules.block.C2f             [32, 32, 1, True]             \n",
            "  3                  -1  1     18560  ultralytics.nn.modules.conv.Conv             [32, 64, 3, 2]                \n",
            "  4                  -1  2     49664  ultralytics.nn.modules.block.C2f             [64, 64, 2, True]             \n",
            "  5                  -1  1     73984  ultralytics.nn.modules.conv.Conv             [64, 128, 3, 2]               \n",
            "  6                  -1  2    197632  ultralytics.nn.modules.block.C2f             [128, 128, 2, True]           \n",
            "  7                  -1  1    295424  ultralytics.nn.modules.conv.Conv             [128, 256, 3, 2]              \n",
            "  8                  -1  1    460288  ultralytics.nn.modules.block.C2f             [256, 256, 1, True]           \n",
            "  9                  -1  1    164608  ultralytics.nn.modules.block.SPPF            [256, 256, 5]                 \n",
            " 10                  -1  1         0  torch.nn.modules.upsampling.Upsample         [None, 2, 'nearest']          \n",
            " 11             [-1, 6]  1         0  ultralytics.nn.modules.conv.Concat           [1]                           \n",
            " 12                  -1  1    148224  ultralytics.nn.modules.block.C2f             [384, 128, 1]                 \n",
            " 13                  -1  1         0  torch.nn.modules.upsampling.Upsample         [None, 2, 'nearest']          \n",
            " 14             [-1, 4]  1         0  ultralytics.nn.modules.conv.Concat           [1]                           \n",
            " 15                  -1  1     37248  ultralytics.nn.modules.block.C2f             [192, 64, 1]                  \n",
            " 16                  -1  1     36992  ultralytics.nn.modules.conv.Conv             [64, 64, 3, 2]                \n",
            " 17            [-1, 12]  1         0  ultralytics.nn.modules.conv.Concat           [1]                           \n",
            " 18                  -1  1    123648  ultralytics.nn.modules.block.C2f             [192, 128, 1]                 \n",
            " 19                  -1  1    147712  ultralytics.nn.modules.conv.Conv             [128, 128, 3, 2]              \n",
            " 20             [-1, 9]  1         0  ultralytics.nn.modules.conv.Concat           [1]                           \n",
            " 21                  -1  1    493056  ultralytics.nn.modules.block.C2f             [384, 256, 1]                 \n",
            " 22        [15, 18, 21]  1    751507  ultralytics.nn.modules.head.Detect           [1, [64, 128, 256]]           \n",
            "Model summary: 129 layers, 3,011,043 parameters, 3,011,027 gradients, 8.2 GFLOPs\n",
            "\n"
          ]
        }
      ]
    },
    {
      "cell_type": "code",
      "source": [
        "def finetune_pruned_model(model, data_yaml, pruner, epochs=5):\n",
        "    \"\"\"\n",
        "    Fine-tune the pruned model\n",
        "    :param model: YOLO model\n",
        "    :param data_yaml: path to data.yaml\n",
        "    :param pruner: Pruner object\n",
        "    :param epochs: number of fine-tuning epochs\n",
        "    \"\"\"\n",
        "    best_map = 0\n",
        "    best_model_state = None\n",
        "\n",
        "    def apply_pruning_callback():\n",
        "        pruner.apply(model.model)\n",
        "\n",
        "    print(\"Fine-tuning pruned model...\")\n",
        "    for epoch in range(epochs):\n",
        "        results = model.train(\n",
        "            data=data_yaml,\n",
        "            epochs=1,\n",
        "            imgsz=640,\n",
        "            batch=16,\n",
        "            exist_ok=True,\n",
        "            resume=True if epoch > 0 else False\n",
        "        )\n",
        "\n",
        "        apply_pruning_callback()\n",
        "\n",
        "        val_results = model.val(data=data_yaml)\n",
        "        current_map = val_results.box.map\n",
        "\n",
        "        if current_map > best_map:\n",
        "            best_map = current_map\n",
        "            best_model_state = copy.deepcopy(model.model.state_dict())\n",
        "\n",
        "        print(f\"Epoch {epoch+1}/{epochs}: mAP = {current_map:.4f}, Best mAP = {best_map:.4f}\")\n",
        "\n",
        "    if best_model_state is not None:\n",
        "        model.model.load_state_dict(best_model_state)\n",
        "\n",
        "    return model, best_map\n"
      ],
      "metadata": {
        "id": "IiSnspaWQ36t"
      },
      "execution_count": null,
      "outputs": []
    },
    {
      "cell_type": "code",
      "source": [
        "def weight_prune_yolov8(model, prune_ratio=0.6, save_path=None):\n",
        "    \"\"\"\n",
        "    Apply weight pruning to YOLOv8 model (keeps structure intact)\n",
        "    :param model: YOLOv8 model\n",
        "    :param prune_ratio: pruning ratio for weights\n",
        "    :param save_path: path to save the pruned model (optional)\n",
        "    :return: pruned model\n",
        "    \"\"\"\n",
        "    pruned_model = copy.deepcopy(model)\n",
        "    yolo_model = pruned_model.model\n",
        "\n",
        "    print(\"Applying weight pruning to YOLOv8...\")\n",
        "\n",
        "    with torch.inference_mode(False):\n",
        "        for name, module in yolo_model.named_modules():\n",
        "            if isinstance(module, nn.Conv2d) or isinstance(module, nn.Linear):\n",
        "                weight = module.weight.data\n",
        "\n",
        "                threshold = torch.quantile(weight.abs(), prune_ratio)\n",
        "\n",
        "                mask = weight.abs() > threshold\n",
        "\n",
        "                module.weight.data = weight * mask\n",
        "\n",
        "    print(\"Weight pruning completed!\")\n",
        "\n",
        "    if save_path is not None:\n",
        "        try:\n",
        "            pruned_model.save(save_path)\n",
        "            print(f\"Pruned model saved to: {save_path}\")\n",
        "        except Exception as e:\n",
        "            print(f\"Error saving model: {e}\")\n",
        "            try:\n",
        "                torch.save(pruned_model.state_dict(), save_path)\n",
        "                print(f\"Pruned model saved as state dict to: {save_path}\")\n",
        "            except Exception as e2:\n",
        "                print(f\"Could not save model: {e2}\")\n",
        "\n",
        "    return pruned_model"
      ],
      "metadata": {
        "id": "XmX5HdZdQ3x7"
      },
      "execution_count": null,
      "outputs": []
    },
    {
      "cell_type": "code",
      "source": [
        "prune_ratio = 0.6\n",
        "pruned_model = weight_prune_yolov8(\n",
        "    model,\n",
        "    prune_ratio=prune_ratio,\n",
        "    save_path='yolov8_pruned.pt'\n",
        ")"
      ],
      "metadata": {
        "id": "bO1HJj58RX4m",
        "colab": {
          "base_uri": "https://localhost:8080/"
        },
        "outputId": "81ca65f8-6aec-44bf-dcf5-3ba1f275eac7"
      },
      "execution_count": null,
      "outputs": [
        {
          "output_type": "stream",
          "name": "stdout",
          "text": [
            "Applying weight pruning to YOLOv8...\n",
            "Weight pruning completed!\n",
            "Pruned model saved to: yolov8_pruned.pt\n"
          ]
        }
      ]
    },
    {
      "cell_type": "code",
      "source": [
        "import os\n",
        "import numpy as np\n",
        "import onnx\n",
        "import onnxruntime as ort\n",
        "from onnxruntime.quantization import quantize_static, QuantType, CalibrationDataReader\n",
        "\n",
        "onnx_path = '/content/best.onnx'\n",
        "quantized_model_path = '/content/best_quantized.onnx'\n",
        "\n",
        "original_size = os.path.getsize(onnx_path) / (1024 * 1024)\n",
        "print(f\"Original ONNX model size: {original_size:.2f} MB\")\n",
        "\n",
        "class YOLOCalibrationDataReader(CalibrationDataReader):\n",
        "    def __init__(self, input_name):\n",
        "        self.input_name = input_name\n",
        "        self.datasize = 100\n",
        "        self.current_index = 0\n",
        "\n",
        "    def get_next(self):\n",
        "        if self.current_index >= self.datasize:\n",
        "            return None\n",
        "\n",
        "        input_data = np.random.random((1, 3, 640, 640)).astype(np.float32)\n",
        "        self.current_index += 1\n",
        "\n",
        "        return {self.input_name: input_data}\n",
        "\n",
        "    def rewind(self):\n",
        "        self.current_index = 0\n",
        "\n",
        "model = onnx.load(onnx_path)\n",
        "input_name = model.graph.input[0].name\n",
        "print(f\"Model input name: {input_name}\")\n",
        "\n",
        "calibration_data_reader = YOLOCalibrationDataReader(input_name)\n",
        "\n",
        "quantize_static(\n",
        "    model_input=onnx_path,\n",
        "    model_output=quantized_model_path,\n",
        "    calibration_data_reader=calibration_data_reader,\n",
        "    per_channel=False,\n",
        "    reduce_range=False,\n",
        "    weight_type=QuantType.QInt8\n",
        ")\n",
        "\n",
        "quantized_size = os.path.getsize(quantized_model_path) / (1024 * 1024)\n",
        "print(f\"Quantized ONNX model size: {quantized_size:.2f} MB\")\n",
        "print(f\"Size reduction: {(1 - quantized_size/original_size) * 100:.2f}%\")\n",
        "\n",
        "session = ort.InferenceSession(quantized_model_path, providers=['CUDAExecutionProvider', 'CPUExecutionProvider'])\n",
        "input_name = session.get_inputs()[0].name\n",
        "test_input = np.random.random((1, 3, 640, 640)).astype(np.float32)\n",
        "outputs = session.run(None, {input_name: test_input})\n",
        "\n",
        "print(\"Quantization completed successfully!\")\n",
        "print(\"The quantized model can now be used with ONNX Runtime.\")"
      ],
      "metadata": {
        "colab": {
          "base_uri": "https://localhost:8080/",
          "height": 393
        },
        "id": "0pfYuEwnRX0Z",
        "outputId": "7ebe1aba-9d7a-407e-886f-1f90df91c66d"
      },
      "execution_count": 1,
      "outputs": [
        {
          "output_type": "error",
          "ename": "ModuleNotFoundError",
          "evalue": "No module named 'onnx'",
          "traceback": [
            "\u001b[0;31m---------------------------------------------------------------------------\u001b[0m",
            "\u001b[0;31mModuleNotFoundError\u001b[0m                       Traceback (most recent call last)",
            "\u001b[0;32m<ipython-input-1-3df3d4799a7a>\u001b[0m in \u001b[0;36m<cell line: 0>\u001b[0;34m()\u001b[0m\n\u001b[1;32m      1\u001b[0m \u001b[0;32mimport\u001b[0m \u001b[0mos\u001b[0m\u001b[0;34m\u001b[0m\u001b[0;34m\u001b[0m\u001b[0m\n\u001b[1;32m      2\u001b[0m \u001b[0;32mimport\u001b[0m \u001b[0mnumpy\u001b[0m \u001b[0;32mas\u001b[0m \u001b[0mnp\u001b[0m\u001b[0;34m\u001b[0m\u001b[0;34m\u001b[0m\u001b[0m\n\u001b[0;32m----> 3\u001b[0;31m \u001b[0;32mimport\u001b[0m \u001b[0monnx\u001b[0m\u001b[0;34m\u001b[0m\u001b[0;34m\u001b[0m\u001b[0m\n\u001b[0m\u001b[1;32m      4\u001b[0m \u001b[0;32mimport\u001b[0m \u001b[0monnxruntime\u001b[0m \u001b[0;32mas\u001b[0m \u001b[0mort\u001b[0m\u001b[0;34m\u001b[0m\u001b[0;34m\u001b[0m\u001b[0m\n\u001b[1;32m      5\u001b[0m \u001b[0;32mfrom\u001b[0m \u001b[0monnxruntime\u001b[0m\u001b[0;34m.\u001b[0m\u001b[0mquantization\u001b[0m \u001b[0;32mimport\u001b[0m \u001b[0mquantize_static\u001b[0m\u001b[0;34m,\u001b[0m \u001b[0mQuantType\u001b[0m\u001b[0;34m,\u001b[0m \u001b[0mCalibrationDataReader\u001b[0m\u001b[0;34m\u001b[0m\u001b[0;34m\u001b[0m\u001b[0m\n",
            "\u001b[0;31mModuleNotFoundError\u001b[0m: No module named 'onnx'",
            "",
            "\u001b[0;31m---------------------------------------------------------------------------\u001b[0;32m\nNOTE: If your import is failing due to a missing package, you can\nmanually install dependencies using either !pip or !apt.\n\nTo view examples of installing some common dependencies, click the\n\"Open Examples\" button below.\n\u001b[0;31m---------------------------------------------------------------------------\u001b[0m\n"
          ],
          "errorDetails": {
            "actions": [
              {
                "action": "open_url",
                "actionText": "Open Examples",
                "url": "/notebooks/snippets/importing_libraries.ipynb"
              }
            ]
          }
        }
      ]
    },
    {
      "cell_type": "code",
      "source": [
        "import os\n",
        "import time\n",
        "import numpy as np\n",
        "import torch\n",
        "from ultralytics import YOLO\n",
        "from PIL import Image\n",
        "import onnxruntime as ort\n",
        "import glob\n",
        "from tqdm import tqdm\n",
        "\n",
        "original_model_path = '/content/best.pt'\n",
        "quantized_model_path = '/content/best_pruned_quantized.onnx'\n",
        "test_images_dir = '/content/human_detection-1/valid/images'\n",
        "\n",
        "original_model = YOLO(original_model_path)\n",
        "print(f\"Original model loaded: {original_model_path}\")\n",
        "\n",
        "ort_session = ort.InferenceSession(\n",
        "    quantized_model_path,\n",
        "    providers=['CUDAExecutionProvider', 'CPUExecutionProvider']\n",
        ")\n",
        "input_name = ort_session.get_inputs()[0].name\n",
        "print(f\"Quantized model loaded: {quantized_model_path}\")\n",
        "\n",
        "test_images = glob.glob(os.path.join(test_images_dir, '*.jpg'))\n",
        "test_subset = test_images[:50]  # Test with 50 images\n",
        "\n",
        "print(\"\\n=== INFERENCE SPEED TEST ===\")\n",
        "\n",
        "print(\"Testing original model inference speed...\")\n",
        "original_times = []\n",
        "for img_path in tqdm(test_subset):\n",
        "    img = Image.open(img_path)\n",
        "    start_time = time.time()\n",
        "    results = original_model(img)\n",
        "    original_times.append(time.time() - start_time)\n",
        "\n",
        "print(\"Testing quantized model inference speed...\")\n",
        "onnx_times = []\n",
        "for img_path in tqdm(test_subset):\n",
        "    img = np.array(Image.open(img_path).resize((640, 640)))\n",
        "    img = img.transpose(2, 0, 1)  # HWC to CHW\n",
        "    img = np.expand_dims(img, 0).astype(np.float32) / 255.0\n",
        "\n",
        "    start_time = time.time()\n",
        "    ort_session.run(None, {input_name: img})\n",
        "    onnx_times.append(time.time() - start_time)\n",
        "\n",
        "print(\"\\n=== DETECTION TEST ===\")\n",
        "print(\"Testing on a sample image...\")\n",
        "\n",
        "sample_img_path = test_subset[0]\n",
        "img = Image.open(sample_img_path)\n",
        "\n",
        "original_results = original_model(img)\n",
        "original_detections = len(original_results[0].boxes)\n",
        "\n",
        "img_array = np.array(img.resize((640, 640)))\n",
        "img_array = img_array.transpose(2, 0, 1)  # HWC to CHW\n",
        "img_array = np.expand_dims(img_array, 0).astype(np.float32) / 255.0\n",
        "\n",
        "onnx_outputs = ort_session.run(None, {input_name: img_array})\n",
        "\n",
        "onnx_detections = 0\n",
        "if len(onnx_outputs) > 0 and len(onnx_outputs[0]) > 0:\n",
        "    onnx_detections = onnx_outputs[0].shape[1]\n",
        "\n",
        "original_size = os.path.getsize(original_model_path) / (1024 * 1024)\n",
        "quantized_size = os.path.getsize(quantized_model_path) / (1024 * 1024)\n",
        "\n",
        "print(\"\\n=== COMPARISON RESULTS ===\")\n",
        "print(f\"{'Metric':<20} {'Original Model':<20} {'Quantized Model':<20} {'Difference %':<15}\")\n",
        "print(\"-\" * 75)\n",
        "print(f\"{'File Size (MB)':<20} {original_size:<20.2f} {quantized_size:<20.2f} {((quantized_size/original_size)-1)*100:<15.2f}\")\n",
        "print(f\"{'Avg Inference (ms)':<20} {np.mean(original_times)*1000:<20.2f} {np.mean(onnx_times)*1000:<20.2f} {((np.mean(onnx_times)/np.mean(original_times))-1)*100:<15.2f}\")\n",
        "print(f\"{'Min Inference (ms)':<20} {np.min(original_times)*1000:<20.2f} {np.min(onnx_times)*1000:<20.2f}\")\n",
        "print(f\"{'Max Inference (ms)':<20} {np.max(original_times)*1000:<20.2f} {np.max(onnx_times)*1000:<20.2f}\")\n",
        "print(f\"\\nSample image detections - Original: {original_detections}, Quantized: {onnx_detections}\")\n",
        "print(f\"\\nSize reduction: {(1 - quantized_size/original_size) * 100:.2f}%\")"
      ],
      "metadata": {
        "colab": {
          "base_uri": "https://localhost:8080/"
        },
        "id": "Bh5IbBoBRfsN",
        "outputId": "03960122-6d0f-47ba-c273-ae5912fef409"
      },
      "execution_count": null,
      "outputs": [
        {
          "output_type": "stream",
          "name": "stdout",
          "text": [
            "Original model loaded: /content/best.pt\n",
            "Quantized model loaded: /content/best_pruned_quantized.onnx\n",
            "\n",
            "=== INFERENCE SPEED TEST ===\n",
            "Testing original model inference speed...\n"
          ]
        },
        {
          "output_type": "stream",
          "name": "stderr",
          "text": [
            "\r  0%|          | 0/50 [00:00<?, ?it/s]"
          ]
        },
        {
          "output_type": "stream",
          "name": "stdout",
          "text": [
            "\n",
            "0: 640x640 7 Humans, 9.5ms\n",
            "Speed: 2.4ms preprocess, 9.5ms inference, 1.7ms postprocess per image at shape (1, 3, 640, 640)\n"
          ]
        },
        {
          "output_type": "stream",
          "name": "stderr",
          "text": [
            "\r  2%|▏         | 1/50 [00:00<00:13,  3.76it/s]"
          ]
        },
        {
          "output_type": "stream",
          "name": "stdout",
          "text": [
            "\n",
            "0: 640x640 1 Human, 8.2ms\n",
            "Speed: 2.5ms preprocess, 8.2ms inference, 2.5ms postprocess per image at shape (1, 3, 640, 640)\n",
            "\n",
            "0: 640x640 2 Humans, 7.3ms\n",
            "Speed: 1.7ms preprocess, 7.3ms inference, 1.4ms postprocess per image at shape (1, 3, 640, 640)\n",
            "\n",
            "0: 640x640 2 Humans, 7.4ms\n",
            "Speed: 1.7ms preprocess, 7.4ms inference, 1.7ms postprocess per image at shape (1, 3, 640, 640)\n",
            "\n",
            "0: 640x640 6 Humans, 7.3ms\n",
            "Speed: 1.6ms preprocess, 7.3ms inference, 1.3ms postprocess per image at shape (1, 3, 640, 640)\n",
            "\n",
            "0: 640x640 13 Humans, 7.4ms\n",
            "Speed: 1.6ms preprocess, 7.4ms inference, 1.3ms postprocess per image at shape (1, 3, 640, 640)\n"
          ]
        },
        {
          "output_type": "stream",
          "name": "stderr",
          "text": [
            "\r 12%|█▏        | 6/50 [00:00<00:02, 19.52it/s]"
          ]
        },
        {
          "output_type": "stream",
          "name": "stdout",
          "text": [
            "\n",
            "0: 640x640 1 Human, 7.3ms\n",
            "Speed: 1.6ms preprocess, 7.3ms inference, 1.3ms postprocess per image at shape (1, 3, 640, 640)\n",
            "\n",
            "0: 640x640 4 Humans, 7.3ms\n",
            "Speed: 1.7ms preprocess, 7.3ms inference, 1.4ms postprocess per image at shape (1, 3, 640, 640)\n",
            "\n",
            "0: 640x640 5 Humans, 7.3ms\n",
            "Speed: 1.7ms preprocess, 7.3ms inference, 1.4ms postprocess per image at shape (1, 3, 640, 640)\n",
            "\n",
            "0: 640x640 1 Human, 7.3ms\n",
            "Speed: 2.1ms preprocess, 7.3ms inference, 1.3ms postprocess per image at shape (1, 3, 640, 640)\n",
            "\n",
            "0: 640x640 1 Human, 7.4ms\n",
            "Speed: 1.6ms preprocess, 7.4ms inference, 1.3ms postprocess per image at shape (1, 3, 640, 640)\n"
          ]
        },
        {
          "output_type": "stream",
          "name": "stderr",
          "text": [
            "\r 22%|██▏       | 11/50 [00:00<00:01, 29.19it/s]"
          ]
        },
        {
          "output_type": "stream",
          "name": "stdout",
          "text": [
            "\n",
            "0: 640x640 5 Humans, 7.3ms\n",
            "Speed: 1.6ms preprocess, 7.3ms inference, 1.5ms postprocess per image at shape (1, 3, 640, 640)\n",
            "\n",
            "0: 640x640 5 Humans, 7.3ms\n",
            "Speed: 1.6ms preprocess, 7.3ms inference, 1.5ms postprocess per image at shape (1, 3, 640, 640)\n",
            "\n",
            "0: 640x640 4 Humans, 7.3ms\n",
            "Speed: 1.6ms preprocess, 7.3ms inference, 1.4ms postprocess per image at shape (1, 3, 640, 640)\n",
            "\n",
            "0: 640x640 8 Humans, 7.4ms\n",
            "Speed: 1.6ms preprocess, 7.4ms inference, 1.4ms postprocess per image at shape (1, 3, 640, 640)\n",
            "\n",
            "0: 640x640 4 Humans, 7.3ms\n",
            "Speed: 1.6ms preprocess, 7.3ms inference, 1.4ms postprocess per image at shape (1, 3, 640, 640)\n",
            "\n",
            "0: 640x640 9 Humans, 7.3ms\n",
            "Speed: 1.6ms preprocess, 7.3ms inference, 4.7ms postprocess per image at shape (1, 3, 640, 640)\n"
          ]
        },
        {
          "output_type": "stream",
          "name": "stderr",
          "text": [
            "\r 34%|███▍      | 17/50 [00:00<00:00, 36.36it/s]"
          ]
        },
        {
          "output_type": "stream",
          "name": "stdout",
          "text": [
            "\n",
            "0: 640x640 5 Humans, 7.4ms\n",
            "Speed: 1.6ms preprocess, 7.4ms inference, 1.6ms postprocess per image at shape (1, 3, 640, 640)\n",
            "\n",
            "0: 640x640 14 Humans, 7.4ms\n",
            "Speed: 1.6ms preprocess, 7.4ms inference, 1.4ms postprocess per image at shape (1, 3, 640, 640)\n",
            "\n",
            "0: 640x640 4 Humans, 7.3ms\n",
            "Speed: 1.6ms preprocess, 7.3ms inference, 1.7ms postprocess per image at shape (1, 3, 640, 640)\n",
            "\n",
            "0: 640x640 2 Humans, 7.3ms\n",
            "Speed: 1.7ms preprocess, 7.3ms inference, 1.4ms postprocess per image at shape (1, 3, 640, 640)\n",
            "\n",
            "0: 640x640 2 Humans, 7.4ms\n",
            "Speed: 1.7ms preprocess, 7.4ms inference, 1.7ms postprocess per image at shape (1, 3, 640, 640)\n"
          ]
        },
        {
          "output_type": "stream",
          "name": "stderr",
          "text": [
            "\r 44%|████▍     | 22/50 [00:00<00:00, 39.90it/s]"
          ]
        },
        {
          "output_type": "stream",
          "name": "stdout",
          "text": [
            "\n",
            "0: 640x640 5 Humans, 7.4ms\n",
            "Speed: 1.6ms preprocess, 7.4ms inference, 1.4ms postprocess per image at shape (1, 3, 640, 640)\n",
            "\n",
            "0: 640x640 1 Human, 7.3ms\n",
            "Speed: 1.6ms preprocess, 7.3ms inference, 1.3ms postprocess per image at shape (1, 3, 640, 640)\n",
            "\n",
            "0: 640x640 6 Humans, 7.4ms\n",
            "Speed: 1.6ms preprocess, 7.4ms inference, 1.4ms postprocess per image at shape (1, 3, 640, 640)\n",
            "\n",
            "0: 640x640 8 Humans, 7.4ms\n",
            "Speed: 1.9ms preprocess, 7.4ms inference, 1.4ms postprocess per image at shape (1, 3, 640, 640)\n",
            "\n",
            "0: 640x640 15 Humans, 7.3ms\n",
            "Speed: 1.7ms preprocess, 7.3ms inference, 1.4ms postprocess per image at shape (1, 3, 640, 640)\n"
          ]
        },
        {
          "output_type": "stream",
          "name": "stderr",
          "text": [
            "\r 54%|█████▍    | 27/50 [00:00<00:00, 42.47it/s]"
          ]
        },
        {
          "output_type": "stream",
          "name": "stdout",
          "text": [
            "\n",
            "0: 640x640 5 Humans, 7.4ms\n",
            "Speed: 1.8ms preprocess, 7.4ms inference, 1.4ms postprocess per image at shape (1, 3, 640, 640)\n",
            "\n",
            "0: 640x640 1 Human, 7.3ms\n",
            "Speed: 1.7ms preprocess, 7.3ms inference, 1.4ms postprocess per image at shape (1, 3, 640, 640)\n",
            "\n",
            "0: 640x640 7 Humans, 7.4ms\n",
            "Speed: 1.7ms preprocess, 7.4ms inference, 1.5ms postprocess per image at shape (1, 3, 640, 640)\n",
            "\n",
            "0: 640x640 1 Human, 7.3ms\n",
            "Speed: 1.7ms preprocess, 7.3ms inference, 1.6ms postprocess per image at shape (1, 3, 640, 640)\n",
            "\n",
            "0: 640x640 1 Human, 8.0ms\n",
            "Speed: 2.0ms preprocess, 8.0ms inference, 1.7ms postprocess per image at shape (1, 3, 640, 640)\n"
          ]
        },
        {
          "output_type": "stream",
          "name": "stderr",
          "text": [
            "\r 64%|██████▍   | 32/50 [00:00<00:00, 44.39it/s]"
          ]
        },
        {
          "output_type": "stream",
          "name": "stdout",
          "text": [
            "\n",
            "0: 640x640 6 Humans, 7.4ms\n",
            "Speed: 1.7ms preprocess, 7.4ms inference, 1.5ms postprocess per image at shape (1, 3, 640, 640)\n",
            "\n",
            "0: 640x640 1 Human, 7.4ms\n",
            "Speed: 1.7ms preprocess, 7.4ms inference, 1.6ms postprocess per image at shape (1, 3, 640, 640)\n",
            "\n",
            "0: 640x640 10 Humans, 12.2ms\n",
            "Speed: 2.3ms preprocess, 12.2ms inference, 2.6ms postprocess per image at shape (1, 3, 640, 640)\n",
            "\n",
            "0: 640x640 1 Human, 7.8ms\n",
            "Speed: 1.9ms preprocess, 7.8ms inference, 1.6ms postprocess per image at shape (1, 3, 640, 640)\n",
            "\n",
            "0: 640x640 4 Humans, 7.3ms\n",
            "Speed: 1.7ms preprocess, 7.3ms inference, 1.5ms postprocess per image at shape (1, 3, 640, 640)\n"
          ]
        },
        {
          "output_type": "stream",
          "name": "stderr",
          "text": [
            "\r 74%|███████▍  | 37/50 [00:01<00:00, 44.35it/s]"
          ]
        },
        {
          "output_type": "stream",
          "name": "stdout",
          "text": [
            "\n",
            "0: 640x640 3 Humans, 7.4ms\n",
            "Speed: 1.7ms preprocess, 7.4ms inference, 1.4ms postprocess per image at shape (1, 3, 640, 640)\n",
            "\n",
            "0: 640x640 8 Humans, 7.4ms\n",
            "Speed: 1.7ms preprocess, 7.4ms inference, 1.4ms postprocess per image at shape (1, 3, 640, 640)\n",
            "\n",
            "0: 640x640 2 Humans, 7.3ms\n",
            "Speed: 1.6ms preprocess, 7.3ms inference, 1.4ms postprocess per image at shape (1, 3, 640, 640)\n",
            "\n",
            "0: 640x640 1 Human, 7.4ms\n",
            "Speed: 1.6ms preprocess, 7.4ms inference, 1.4ms postprocess per image at shape (1, 3, 640, 640)\n",
            "\n",
            "0: 640x640 2 Humans, 7.3ms\n",
            "Speed: 1.6ms preprocess, 7.3ms inference, 1.3ms postprocess per image at shape (1, 3, 640, 640)\n",
            "\n",
            "0: 640x640 6 Humans, 7.3ms\n",
            "Speed: 1.7ms preprocess, 7.3ms inference, 1.4ms postprocess per image at shape (1, 3, 640, 640)\n"
          ]
        },
        {
          "output_type": "stream",
          "name": "stderr",
          "text": [
            "\r 86%|████████▌ | 43/50 [00:01<00:00, 46.25it/s]"
          ]
        },
        {
          "output_type": "stream",
          "name": "stdout",
          "text": [
            "\n",
            "0: 640x640 3 Humans, 7.3ms\n",
            "Speed: 1.7ms preprocess, 7.3ms inference, 1.4ms postprocess per image at shape (1, 3, 640, 640)\n",
            "\n",
            "0: 640x640 (no detections), 7.3ms\n",
            "Speed: 1.6ms preprocess, 7.3ms inference, 0.7ms postprocess per image at shape (1, 3, 640, 640)\n",
            "\n",
            "0: 640x640 4 Humans, 9.1ms\n",
            "Speed: 1.6ms preprocess, 9.1ms inference, 1.4ms postprocess per image at shape (1, 3, 640, 640)\n",
            "\n",
            "0: 640x640 1 Human, 7.3ms\n",
            "Speed: 1.6ms preprocess, 7.3ms inference, 1.3ms postprocess per image at shape (1, 3, 640, 640)\n",
            "\n",
            "0: 640x640 1 Human, 7.3ms\n",
            "Speed: 1.6ms preprocess, 7.3ms inference, 2.7ms postprocess per image at shape (1, 3, 640, 640)\n"
          ]
        },
        {
          "output_type": "stream",
          "name": "stderr",
          "text": [
            "\r 96%|█████████▌| 48/50 [00:01<00:00, 47.09it/s]"
          ]
        },
        {
          "output_type": "stream",
          "name": "stdout",
          "text": [
            "\n",
            "0: 640x640 8 Humans, 7.3ms\n",
            "Speed: 1.6ms preprocess, 7.3ms inference, 1.4ms postprocess per image at shape (1, 3, 640, 640)\n",
            "\n",
            "0: 640x640 1 Human, 7.3ms\n",
            "Speed: 1.6ms preprocess, 7.3ms inference, 1.5ms postprocess per image at shape (1, 3, 640, 640)\n"
          ]
        },
        {
          "output_type": "stream",
          "name": "stderr",
          "text": [
            "\r100%|██████████| 50/50 [00:01<00:00, 38.93it/s]\n"
          ]
        },
        {
          "output_type": "stream",
          "name": "stdout",
          "text": [
            "Testing quantized model inference speed...\n"
          ]
        },
        {
          "output_type": "stream",
          "name": "stderr",
          "text": [
            "100%|██████████| 50/50 [00:00<00:00, 54.77it/s]"
          ]
        },
        {
          "output_type": "stream",
          "name": "stdout",
          "text": [
            "\n",
            "=== DETECTION TEST ===\n",
            "Testing on a sample image...\n",
            "\n",
            "0: 640x640 7 Humans, 8.9ms\n",
            "Speed: 1.9ms preprocess, 8.9ms inference, 1.8ms postprocess per image at shape (1, 3, 640, 640)\n",
            "\n",
            "=== COMPARISON RESULTS ===\n",
            "Metric               Original Model       Quantized Model      Difference %   \n",
            "---------------------------------------------------------------------------\n",
            "File Size (MB)       5.97                 3.20                 -46.34         \n",
            "Avg Inference (ms)   25.25                14.16                -43.93         \n",
            "Min Inference (ms)   18.58                10.08               \n",
            "Max Inference (ms)   265.31               78.46               \n",
            "\n",
            "Sample image detections - Original: 7, Quantized: 6\n",
            "\n",
            "Size reduction: 46.34%\n"
          ]
        },
        {
          "output_type": "stream",
          "name": "stderr",
          "text": [
            "\n"
          ]
        }
      ]
    }
  ]
}